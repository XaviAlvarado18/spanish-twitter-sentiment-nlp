{
 "cells": [
  {
   "cell_type": "markdown",
   "id": "f367ef37",
   "metadata": {},
   "source": [
    "# 🐦 Twitter Sentiment Analysis in Spanish Tweets  \n",
    "\n",
    "## 👥 Authors\n",
    "- **Kristopher Javier Alvarado López** — Carné: 21188  \n",
    "- **Emilio Jose Solano Orozco** — Carné: 21212  \n",
    "\n",
    "---\n",
    "\n",
    "## 📖 Project Description\n",
    "Este proyecto consiste en el desarrollo de un **pipeline completo de Procesamiento de Lenguaje Natural (NLP)** aplicado a tweets en español.  \n",
    "El objetivo es analizar el sentimiento expresado en los mensajes (positivo, negativo o neutro) integrando las siguientes etapas:  \n",
    "\n",
    "1. **Preprocesamiento del texto**: limpieza, tokenización, lematización, normalización y corrección ortográfica.  \n",
    "2. **Representación de texto**: Bag of Words (BoW), TF-IDF, matrices de co-ocurrencia y embeddings.  \n",
    "3. **Modelos probabilísticos**: construcción de modelos N-gram y evaluación con entropía y perplejidad.  \n",
    "4. **Modelos de clasificación**: aplicación de algoritmos supervisados para la detección automática de sentimiento.  \n",
    "5. **Evaluación y discusión crítica** de resultados.  \n",
    "\n",
    "---\n",
    "\n",
    "## 🌍 English Abstract\n",
    "This project presents the development of a **complete NLP pipeline** for sentiment analysis in Spanish tweets.  \n",
    "The main goal is to evaluate different text preprocessing techniques, representation models, and machine learning approaches to classify tweets into sentiment categories (positive, negative, neutral). The project combines classical probabilistic language models with modern embedding-based techniques, offering a critical analysis of their performance on real-world social media data.\n"
   ]
  },
  {
   "cell_type": "code",
   "execution_count": null,
   "id": "d7bd7fcb",
   "metadata": {},
   "outputs": [],
   "source": [
    "import pandas as pd\n",
    "\n",
    "# Cargar dataset\n",
    "df = pd.read_csv(\"data/sentiment_analysis_dataset.csv\")\n",
    "\n",
    "# Vista rápida\n",
    "print(\"Columnas originales:\", df.columns.tolist())\n",
    "print(\"Tamaño del dataset:\", df.shape)\n",
    "df.head()\n"
   ]
  }
 ],
 "metadata": {
  "kernelspec": {
   "display_name": ".venv",
   "language": "python",
   "name": "python3"
  },
  "language_info": {
   "codemirror_mode": {
    "name": "ipython",
    "version": 3
   },
   "file_extension": ".py",
   "mimetype": "text/x-python",
   "name": "python",
   "nbconvert_exporter": "python",
   "pygments_lexer": "ipython3",
   "version": "3.9.2rc1"
  }
 },
 "nbformat": 4,
 "nbformat_minor": 5
}
