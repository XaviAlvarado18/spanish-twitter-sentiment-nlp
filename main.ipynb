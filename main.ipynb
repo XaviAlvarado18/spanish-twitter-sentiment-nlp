{
 "cells": [
  {
   "cell_type": "markdown",
   "id": "f367ef37",
   "metadata": {},
   "source": [
    "# 🐦 Twitter Sentiment Analysis in Spanish Tweets  \n",
    "\n",
    "## 👥 Authors\n",
    "- **Kristopher Javier Alvarado López** — Carné: 21188  \n",
    "- **Emilio Jose Solano Orozco** — Carné: 21212  \n",
    "\n",
    "---\n",
    "\n",
    "## 📖 Project Description\n",
    "Este proyecto consiste en el desarrollo de un **pipeline completo de Procesamiento de Lenguaje Natural (NLP)** aplicado a tweets en español.  \n",
    "El objetivo es analizar el sentimiento expresado en los mensajes (positivo, negativo o neutro) integrando las siguientes etapas:  \n",
    "\n",
    "1. **Preprocesamiento del texto**: limpieza, tokenización, lematización, normalización y corrección ortográfica.  \n",
    "2. **Representación de texto**: Bag of Words (BoW), TF-IDF, matrices de co-ocurrencia y embeddings.  \n",
    "3. **Modelos probabilísticos**: construcción de modelos N-gram y evaluación con entropía y perplejidad.  \n",
    "4. **Modelos de clasificación**: aplicación de algoritmos supervisados para la detección automática de sentimiento.  \n",
    "5. **Evaluación y discusión crítica** de resultados.  \n",
    "\n",
    "---\n",
    "\n",
    "## 🌍 English Abstract\n",
    "This project presents the development of a **complete NLP pipeline** for sentiment analysis in Spanish tweets.  \n",
    "The main goal is to evaluate different text preprocessing techniques, representation models, and machine learning approaches to classify tweets into sentiment categories (positive, negative, neutral). The project combines classical probabilistic language models with modern embedding-based techniques, offering a critical analysis of their performance on real-world social media data.\n"
   ]
  },
  {
   "cell_type": "code",
   "execution_count": 2,
   "id": "d7bd7fcb",
   "metadata": {},
   "outputs": [
    {
     "name": "stdout",
     "output_type": "stream",
     "text": [
      "Columnas originales: ['user', 'text', 'date', 'emotion', 'sentiment']\n",
      "Tamaño del dataset: (2590, 5)\n"
     ]
    },
    {
     "data": {
      "application/vnd.microsoft.datawrangler.viewer.v0+json": {
       "columns": [
        {
         "name": "index",
         "rawType": "int64",
         "type": "integer"
        },
        {
         "name": "user",
         "rawType": "object",
         "type": "string"
        },
        {
         "name": "text",
         "rawType": "object",
         "type": "string"
        },
        {
         "name": "date",
         "rawType": "object",
         "type": "string"
        },
        {
         "name": "emotion",
         "rawType": "object",
         "type": "string"
        },
        {
         "name": "sentiment",
         "rawType": "object",
         "type": "string"
        }
       ],
       "ref": "c93aa84d-c0ff-4698-8511-fa300967d613",
       "rows": [
        [
         "0",
         "@erreborda",
         "termine bien abrumado después de hoy",
         "Jan 6, 2024 · 2:53 AM UTC",
         "overwhelmed",
         "scared"
        ],
        [
         "1",
         "@shpiderduck",
         "me siento abrumado",
         "Jan 6, 2024 · 2:35 AM UTC",
         "overwhelmed",
         "scared"
        ],
        [
         "2",
         "@Alex_R_art",
         "Me siento un poco abrumado por la cantidad de cosas que quiero dibujar, ver, jugar y leer. Odio esta sensación xdddd",
         "Jan 6, 2024 · 12:20 AM UTC",
         "overwhelmed",
         "scared"
        ],
        [
         "3",
         "@anggelinaa97",
         "Salvador la única persona que no la ha abrumado de versiones❤😒❤ #NadieComoTú",
         "Jan 5, 2024 · 10:38 PM UTC",
         "overwhelmed",
         "scared"
        ],
        [
         "4",
         "@diegoreyesvqz",
         "Denme un helado o algo que ando full abrumado.",
         "Jan 5, 2024 · 8:38 PM UTC",
         "overwhelmed",
         "scared"
        ]
       ],
       "shape": {
        "columns": 5,
        "rows": 5
       }
      },
      "text/html": [
       "<div>\n",
       "<style scoped>\n",
       "    .dataframe tbody tr th:only-of-type {\n",
       "        vertical-align: middle;\n",
       "    }\n",
       "\n",
       "    .dataframe tbody tr th {\n",
       "        vertical-align: top;\n",
       "    }\n",
       "\n",
       "    .dataframe thead th {\n",
       "        text-align: right;\n",
       "    }\n",
       "</style>\n",
       "<table border=\"1\" class=\"dataframe\">\n",
       "  <thead>\n",
       "    <tr style=\"text-align: right;\">\n",
       "      <th></th>\n",
       "      <th>user</th>\n",
       "      <th>text</th>\n",
       "      <th>date</th>\n",
       "      <th>emotion</th>\n",
       "      <th>sentiment</th>\n",
       "    </tr>\n",
       "  </thead>\n",
       "  <tbody>\n",
       "    <tr>\n",
       "      <th>0</th>\n",
       "      <td>@erreborda</td>\n",
       "      <td>termine bien abrumado después de hoy</td>\n",
       "      <td>Jan 6, 2024 · 2:53 AM UTC</td>\n",
       "      <td>overwhelmed</td>\n",
       "      <td>scared</td>\n",
       "    </tr>\n",
       "    <tr>\n",
       "      <th>1</th>\n",
       "      <td>@shpiderduck</td>\n",
       "      <td>me siento abrumado</td>\n",
       "      <td>Jan 6, 2024 · 2:35 AM UTC</td>\n",
       "      <td>overwhelmed</td>\n",
       "      <td>scared</td>\n",
       "    </tr>\n",
       "    <tr>\n",
       "      <th>2</th>\n",
       "      <td>@Alex_R_art</td>\n",
       "      <td>Me siento un poco abrumado por la cantidad de ...</td>\n",
       "      <td>Jan 6, 2024 · 12:20 AM UTC</td>\n",
       "      <td>overwhelmed</td>\n",
       "      <td>scared</td>\n",
       "    </tr>\n",
       "    <tr>\n",
       "      <th>3</th>\n",
       "      <td>@anggelinaa97</td>\n",
       "      <td>Salvador la única persona que no la ha abrumad...</td>\n",
       "      <td>Jan 5, 2024 · 10:38 PM UTC</td>\n",
       "      <td>overwhelmed</td>\n",
       "      <td>scared</td>\n",
       "    </tr>\n",
       "    <tr>\n",
       "      <th>4</th>\n",
       "      <td>@diegoreyesvqz</td>\n",
       "      <td>Denme un helado o algo que ando full abrumado.</td>\n",
       "      <td>Jan 5, 2024 · 8:38 PM UTC</td>\n",
       "      <td>overwhelmed</td>\n",
       "      <td>scared</td>\n",
       "    </tr>\n",
       "  </tbody>\n",
       "</table>\n",
       "</div>"
      ],
      "text/plain": [
       "             user                                               text  \\\n",
       "0      @erreborda               termine bien abrumado después de hoy   \n",
       "1    @shpiderduck                                 me siento abrumado   \n",
       "2     @Alex_R_art  Me siento un poco abrumado por la cantidad de ...   \n",
       "3   @anggelinaa97  Salvador la única persona que no la ha abrumad...   \n",
       "4  @diegoreyesvqz     Denme un helado o algo que ando full abrumado.   \n",
       "\n",
       "                         date      emotion sentiment  \n",
       "0   Jan 6, 2024 · 2:53 AM UTC  overwhelmed    scared  \n",
       "1   Jan 6, 2024 · 2:35 AM UTC  overwhelmed    scared  \n",
       "2  Jan 6, 2024 · 12:20 AM UTC  overwhelmed    scared  \n",
       "3  Jan 5, 2024 · 10:38 PM UTC  overwhelmed    scared  \n",
       "4   Jan 5, 2024 · 8:38 PM UTC  overwhelmed    scared  "
      ]
     },
     "execution_count": 2,
     "metadata": {},
     "output_type": "execute_result"
    }
   ],
   "source": [
    "import pandas as pd\n",
    "\n",
    "# Cargar dataset\n",
    "df = pd.read_csv(\"data/sentiment_analysis_dataset.csv\")\n",
    "\n",
    "# Vista rápida\n",
    "print(\"Columnas originales:\", df.columns.tolist())\n",
    "print(\"Tamaño del dataset:\", df.shape)\n",
    "df.head()\n"
   ]
  },
  {
   "cell_type": "code",
   "execution_count": 3,
   "id": "bc2d244e",
   "metadata": {},
   "outputs": [
    {
     "name": "stdout",
     "output_type": "stream",
     "text": [
      "Columnas después de eliminar 'sentiment': ['user', 'text', 'date', 'emotion']\n"
     ]
    },
    {
     "data": {
      "application/vnd.microsoft.datawrangler.viewer.v0+json": {
       "columns": [
        {
         "name": "index",
         "rawType": "int64",
         "type": "integer"
        },
        {
         "name": "user",
         "rawType": "object",
         "type": "string"
        },
        {
         "name": "text",
         "rawType": "object",
         "type": "string"
        },
        {
         "name": "date",
         "rawType": "object",
         "type": "string"
        },
        {
         "name": "emotion",
         "rawType": "object",
         "type": "string"
        }
       ],
       "ref": "33004585-3177-400c-9120-b64c440ef28b",
       "rows": [
        [
         "0",
         "@erreborda",
         "termine bien abrumado después de hoy",
         "Jan 6, 2024 · 2:53 AM UTC",
         "overwhelmed"
        ],
        [
         "1",
         "@shpiderduck",
         "me siento abrumado",
         "Jan 6, 2024 · 2:35 AM UTC",
         "overwhelmed"
        ],
        [
         "2",
         "@Alex_R_art",
         "Me siento un poco abrumado por la cantidad de cosas que quiero dibujar, ver, jugar y leer. Odio esta sensación xdddd",
         "Jan 6, 2024 · 12:20 AM UTC",
         "overwhelmed"
        ],
        [
         "3",
         "@anggelinaa97",
         "Salvador la única persona que no la ha abrumado de versiones❤😒❤ #NadieComoTú",
         "Jan 5, 2024 · 10:38 PM UTC",
         "overwhelmed"
        ],
        [
         "4",
         "@diegoreyesvqz",
         "Denme un helado o algo que ando full abrumado.",
         "Jan 5, 2024 · 8:38 PM UTC",
         "overwhelmed"
        ]
       ],
       "shape": {
        "columns": 4,
        "rows": 5
       }
      },
      "text/html": [
       "<div>\n",
       "<style scoped>\n",
       "    .dataframe tbody tr th:only-of-type {\n",
       "        vertical-align: middle;\n",
       "    }\n",
       "\n",
       "    .dataframe tbody tr th {\n",
       "        vertical-align: top;\n",
       "    }\n",
       "\n",
       "    .dataframe thead th {\n",
       "        text-align: right;\n",
       "    }\n",
       "</style>\n",
       "<table border=\"1\" class=\"dataframe\">\n",
       "  <thead>\n",
       "    <tr style=\"text-align: right;\">\n",
       "      <th></th>\n",
       "      <th>user</th>\n",
       "      <th>text</th>\n",
       "      <th>date</th>\n",
       "      <th>emotion</th>\n",
       "    </tr>\n",
       "  </thead>\n",
       "  <tbody>\n",
       "    <tr>\n",
       "      <th>0</th>\n",
       "      <td>@erreborda</td>\n",
       "      <td>termine bien abrumado después de hoy</td>\n",
       "      <td>Jan 6, 2024 · 2:53 AM UTC</td>\n",
       "      <td>overwhelmed</td>\n",
       "    </tr>\n",
       "    <tr>\n",
       "      <th>1</th>\n",
       "      <td>@shpiderduck</td>\n",
       "      <td>me siento abrumado</td>\n",
       "      <td>Jan 6, 2024 · 2:35 AM UTC</td>\n",
       "      <td>overwhelmed</td>\n",
       "    </tr>\n",
       "    <tr>\n",
       "      <th>2</th>\n",
       "      <td>@Alex_R_art</td>\n",
       "      <td>Me siento un poco abrumado por la cantidad de ...</td>\n",
       "      <td>Jan 6, 2024 · 12:20 AM UTC</td>\n",
       "      <td>overwhelmed</td>\n",
       "    </tr>\n",
       "    <tr>\n",
       "      <th>3</th>\n",
       "      <td>@anggelinaa97</td>\n",
       "      <td>Salvador la única persona que no la ha abrumad...</td>\n",
       "      <td>Jan 5, 2024 · 10:38 PM UTC</td>\n",
       "      <td>overwhelmed</td>\n",
       "    </tr>\n",
       "    <tr>\n",
       "      <th>4</th>\n",
       "      <td>@diegoreyesvqz</td>\n",
       "      <td>Denme un helado o algo que ando full abrumado.</td>\n",
       "      <td>Jan 5, 2024 · 8:38 PM UTC</td>\n",
       "      <td>overwhelmed</td>\n",
       "    </tr>\n",
       "  </tbody>\n",
       "</table>\n",
       "</div>"
      ],
      "text/plain": [
       "             user                                               text  \\\n",
       "0      @erreborda               termine bien abrumado después de hoy   \n",
       "1    @shpiderduck                                 me siento abrumado   \n",
       "2     @Alex_R_art  Me siento un poco abrumado por la cantidad de ...   \n",
       "3   @anggelinaa97  Salvador la única persona que no la ha abrumad...   \n",
       "4  @diegoreyesvqz     Denme un helado o algo que ando full abrumado.   \n",
       "\n",
       "                         date      emotion  \n",
       "0   Jan 6, 2024 · 2:53 AM UTC  overwhelmed  \n",
       "1   Jan 6, 2024 · 2:35 AM UTC  overwhelmed  \n",
       "2  Jan 6, 2024 · 12:20 AM UTC  overwhelmed  \n",
       "3  Jan 5, 2024 · 10:38 PM UTC  overwhelmed  \n",
       "4   Jan 5, 2024 · 8:38 PM UTC  overwhelmed  "
      ]
     },
     "execution_count": 3,
     "metadata": {},
     "output_type": "execute_result"
    }
   ],
   "source": [
    "# Eliminar la columna 'sentiment'\n",
    "df = df.drop(columns=[\"sentiment\"])\n",
    "\n",
    "# Revisar cambios\n",
    "print(\"Columnas después de eliminar 'sentiment':\", df.columns.tolist())\n",
    "df.head()\n"
   ]
  },
  {
   "cell_type": "markdown",
   "id": "afef889d",
   "metadata": {},
   "source": [
    "# 🛠️ 1. Preprocesamiento del Corpus  \n",
    "\n",
    "En esta sección realizamos el **preprocesamiento de los tweets en español** para preparar el corpus antes de aplicar modelos de NLP.  \n",
    "\n",
    "Las tareas principales son:  \n",
    "\n",
    "1. **Limpieza del texto**: conversión a minúsculas, eliminación de puntuación, URLs, menciones y stopwords.  \n",
    "2. **Tokenización**: separación de cada oración en palabras.  \n",
    "3. **Lematización y stemming**: reducción de palabras a su raíz o forma base.  \n",
    "4. **Uso del algoritmo de Levenshtein**: detección de similitudes y posibles errores ortográficos en el texto.  \n",
    "\n",
    "---"
   ]
  },
  {
   "cell_type": "code",
   "execution_count": 6,
   "id": "f6c84cde",
   "metadata": {},
   "outputs": [
    {
     "name": "stderr",
     "output_type": "stream",
     "text": [
      "[nltk_data] Downloading package stopwords to\n",
      "[nltk_data]     C:\\Users\\Alvar\\AppData\\Roaming\\nltk_data...\n",
      "[nltk_data]   Unzipping corpora\\stopwords.zip.\n"
     ]
    },
    {
     "data": {
      "application/vnd.microsoft.datawrangler.viewer.v0+json": {
       "columns": [
        {
         "name": "index",
         "rawType": "int64",
         "type": "integer"
        },
        {
         "name": "text",
         "rawType": "object",
         "type": "string"
        },
        {
         "name": "clean_text",
         "rawType": "object",
         "type": "string"
        }
       ],
       "ref": "7db33d5d-5210-44a3-a27e-763ecf586cdc",
       "rows": [
        [
         "0",
         "termine bien abrumado después de hoy",
         "termine bien abrumado después hoy"
        ],
        [
         "1",
         "me siento abrumado",
         "siento abrumado"
        ],
        [
         "2",
         "Me siento un poco abrumado por la cantidad de cosas que quiero dibujar, ver, jugar y leer. Odio esta sensación xdddd",
         "siento abrumado cantidad cosas quiero dibujar ver jugar leer odio sensación xdddd"
        ],
        [
         "3",
         "Salvador la única persona que no la ha abrumado de versiones❤😒❤ #NadieComoTú",
         "salvador única persona abrumado versiones"
        ],
        [
         "4",
         "Denme un helado o algo que ando full abrumado.",
         "denme helado ando full abrumado"
        ],
        [
         "5",
         "Estoy abrumado de airdrops , de youtube y de todo. Es imposible gestionarlo todo , todo se mueve muy rápido. O determino un plan o me quemo",
         "abrumado airdrops youtube imposible gestionarlo mueve rápido determino plan quemo"
        ],
        [
         "6",
         "#MicroCuento: A veces, sin motivo aparente, o, más bien, por razones quizás fútiles, se le venían encima unas nostalgias inmensas, que lo dejaban paralizado y abrumado... ¿Serían los \"Heraldos Negros\" de los que hablaba Vallejo?...",
         "veces motivo aparente bien razones quizás fútiles venían encima unas nostalgias inmensas dejaban paralizado abrumado heraldos negros hablaba vallejo"
        ],
        [
         "7",
         "Oh, las vacaciones. Tesoros inciertos, venideros y preciados para cualquier trabajador abrumado por la sobreexplotación. Un sueño fugaz en el que el dinero parecía no importar, a cambio de un breve respiro de placer, diversión y alivio.  Su tesoro perdido, ahora convertido",
         "oh vacaciones tesoros inciertos venideros preciados cualquier trabajador abrumado sobreexplotación sueño fugaz dinero parecía importar cambio breve respiro placer diversión alivio tesoro perdido ahora convertido"
        ],
        [
         "8",
         "me siento muy abrumado",
         "siento abrumado"
        ],
        [
         "9",
         "Consejo  que nadie pidió:  Si un día te sientes abrumado, triste, enojado, ansioso…   Cierra tus ojos, y piérdete en tu respiración",
         "consejo nadie pidió si día sientes abrumado triste enojado ansioso cierra ojos piérdete respiración"
        ]
       ],
       "shape": {
        "columns": 2,
        "rows": 10
       }
      },
      "text/html": [
       "<div>\n",
       "<style scoped>\n",
       "    .dataframe tbody tr th:only-of-type {\n",
       "        vertical-align: middle;\n",
       "    }\n",
       "\n",
       "    .dataframe tbody tr th {\n",
       "        vertical-align: top;\n",
       "    }\n",
       "\n",
       "    .dataframe thead th {\n",
       "        text-align: right;\n",
       "    }\n",
       "</style>\n",
       "<table border=\"1\" class=\"dataframe\">\n",
       "  <thead>\n",
       "    <tr style=\"text-align: right;\">\n",
       "      <th></th>\n",
       "      <th>text</th>\n",
       "      <th>clean_text</th>\n",
       "    </tr>\n",
       "  </thead>\n",
       "  <tbody>\n",
       "    <tr>\n",
       "      <th>0</th>\n",
       "      <td>termine bien abrumado después de hoy</td>\n",
       "      <td>termine bien abrumado después hoy</td>\n",
       "    </tr>\n",
       "    <tr>\n",
       "      <th>1</th>\n",
       "      <td>me siento abrumado</td>\n",
       "      <td>siento abrumado</td>\n",
       "    </tr>\n",
       "    <tr>\n",
       "      <th>2</th>\n",
       "      <td>Me siento un poco abrumado por la cantidad de ...</td>\n",
       "      <td>siento abrumado cantidad cosas quiero dibujar ...</td>\n",
       "    </tr>\n",
       "    <tr>\n",
       "      <th>3</th>\n",
       "      <td>Salvador la única persona que no la ha abrumad...</td>\n",
       "      <td>salvador única persona abrumado versiones</td>\n",
       "    </tr>\n",
       "    <tr>\n",
       "      <th>4</th>\n",
       "      <td>Denme un helado o algo que ando full abrumado.</td>\n",
       "      <td>denme helado ando full abrumado</td>\n",
       "    </tr>\n",
       "    <tr>\n",
       "      <th>5</th>\n",
       "      <td>Estoy abrumado de airdrops , de youtube y de t...</td>\n",
       "      <td>abrumado airdrops youtube imposible gestionarl...</td>\n",
       "    </tr>\n",
       "    <tr>\n",
       "      <th>6</th>\n",
       "      <td>#MicroCuento: A veces, sin motivo aparente, o,...</td>\n",
       "      <td>veces motivo aparente bien razones quizás fúti...</td>\n",
       "    </tr>\n",
       "    <tr>\n",
       "      <th>7</th>\n",
       "      <td>Oh, las vacaciones. Tesoros inciertos, venider...</td>\n",
       "      <td>oh vacaciones tesoros inciertos venideros prec...</td>\n",
       "    </tr>\n",
       "    <tr>\n",
       "      <th>8</th>\n",
       "      <td>me siento muy abrumado</td>\n",
       "      <td>siento abrumado</td>\n",
       "    </tr>\n",
       "    <tr>\n",
       "      <th>9</th>\n",
       "      <td>Consejo  que nadie pidió:  Si un día te siente...</td>\n",
       "      <td>consejo nadie pidió si día sientes abrumado tr...</td>\n",
       "    </tr>\n",
       "  </tbody>\n",
       "</table>\n",
       "</div>"
      ],
      "text/plain": [
       "                                                text  \\\n",
       "0               termine bien abrumado después de hoy   \n",
       "1                                 me siento abrumado   \n",
       "2  Me siento un poco abrumado por la cantidad de ...   \n",
       "3  Salvador la única persona que no la ha abrumad...   \n",
       "4     Denme un helado o algo que ando full abrumado.   \n",
       "5  Estoy abrumado de airdrops , de youtube y de t...   \n",
       "6  #MicroCuento: A veces, sin motivo aparente, o,...   \n",
       "7  Oh, las vacaciones. Tesoros inciertos, venider...   \n",
       "8                             me siento muy abrumado   \n",
       "9  Consejo  que nadie pidió:  Si un día te siente...   \n",
       "\n",
       "                                          clean_text  \n",
       "0                  termine bien abrumado después hoy  \n",
       "1                                    siento abrumado  \n",
       "2  siento abrumado cantidad cosas quiero dibujar ...  \n",
       "3          salvador única persona abrumado versiones  \n",
       "4                    denme helado ando full abrumado  \n",
       "5  abrumado airdrops youtube imposible gestionarl...  \n",
       "6  veces motivo aparente bien razones quizás fúti...  \n",
       "7  oh vacaciones tesoros inciertos venideros prec...  \n",
       "8                                    siento abrumado  \n",
       "9  consejo nadie pidió si día sientes abrumado tr...  "
      ]
     },
     "execution_count": 6,
     "metadata": {},
     "output_type": "execute_result"
    }
   ],
   "source": [
    "import re\n",
    "import pandas as pd\n",
    "import nltk\n",
    "from nltk.corpus import stopwords\n",
    "\n",
    "# Descargar stopwords (solo primera vez)\n",
    "nltk.download('stopwords')\n",
    "stop_words = set(stopwords.words('spanish'))\n",
    "\n",
    "# 🔹 Función de limpieza\n",
    "def clean_text(text):\n",
    "    text = text.lower()  # minúsculas\n",
    "    text = re.sub(r\"http\\S+|www\\S+|https\\S+\", \"\", text)  # URLs\n",
    "    text = re.sub(r\"@\\w+\", \"\", text)  # menciones\n",
    "    text = re.sub(r\"#\\w+\", \"\", text)  # hashtags\n",
    "    text = re.sub(r\"[^\\w\\s]\", \"\", text)  # puntuación\n",
    "    text = \" \".join([word for word in text.split() if word not in stop_words])  # stopwords\n",
    "    return text.strip()\n",
    "\n",
    "# 🔹 Aplicar limpieza\n",
    "df[\"clean_text\"] = df[\"text\"].astype(str).apply(clean_text)\n",
    "df[[\"text\", \"clean_text\"]].head(10)\n"
   ]
  },
  {
   "cell_type": "code",
   "execution_count": 7,
   "id": "3cb6e4c1",
   "metadata": {},
   "outputs": [
    {
     "name": "stderr",
     "output_type": "stream",
     "text": [
      "c:\\Users\\Alvar\\OneDrive\\Documentos\\SemestreX\\Natural Language Process\\spanish-twitter-sentiment-nlp\\.venv\\lib\\site-packages\\tqdm\\auto.py:21: TqdmWarning: IProgress not found. Please update jupyter and ipywidgets. See https://ipywidgets.readthedocs.io/en/stable/user_install.html\n",
      "  from .autonotebook import tqdm as notebook_tqdm\n",
      "Downloading https://raw.githubusercontent.com/stanfordnlp/stanza-resources/main/resources_1.10.0.json: 434kB [00:00, 86.4MB/s]                    \n",
      "2025-09-28 21:06:07 INFO: Downloaded file to C:\\Users\\Alvar\\stanza_resources\\resources.json\n",
      "2025-09-28 21:06:07 INFO: Downloading default packages for language: es (Spanish) ...\n",
      "Downloading https://huggingface.co/stanfordnlp/stanza-es/resolve/v1.10.0/models/default.zip: 100%|██████████| 642M/642M [01:26<00:00, 7.38MB/s] \n",
      "2025-09-28 21:07:36 INFO: Downloaded file to C:\\Users\\Alvar\\stanza_resources\\es\\default.zip\n",
      "2025-09-28 21:07:43 INFO: Finished downloading models and saved to C:\\Users\\Alvar\\stanza_resources\n",
      "2025-09-28 21:07:43 INFO: Checking for updates to resources.json in case models have been updated.  Note: this behavior can be turned off with download_method=None or download_method=DownloadMethod.REUSE_RESOURCES\n",
      "Downloading https://raw.githubusercontent.com/stanfordnlp/stanza-resources/main/resources_1.10.0.json: 434kB [00:00, 5.99MB/s]                    \n",
      "2025-09-28 21:07:44 INFO: Downloaded file to C:\\Users\\Alvar\\stanza_resources\\resources.json\n",
      "2025-09-28 21:07:44 WARNING: Language es package default expects mwt, which has been added\n",
      "2025-09-28 21:07:44 INFO: Loading these models for language: es (Spanish):\n",
      "=================================\n",
      "| Processor | Package           |\n",
      "---------------------------------\n",
      "| tokenize  | combined          |\n",
      "| mwt       | combined          |\n",
      "| lemma     | combined_nocharlm |\n",
      "=================================\n",
      "\n",
      "2025-09-28 21:07:44 INFO: Using device: cpu\n",
      "2025-09-28 21:07:44 INFO: Loading: tokenize\n",
      "2025-09-28 21:07:47 INFO: Loading: mwt\n",
      "2025-09-28 21:07:47 INFO: Loading: lemma\n",
      "2025-09-28 21:07:49 INFO: Done loading processors!\n"
     ]
    },
    {
     "data": {
      "application/vnd.microsoft.datawrangler.viewer.v0+json": {
       "columns": [
        {
         "name": "index",
         "rawType": "int64",
         "type": "integer"
        },
        {
         "name": "clean_text",
         "rawType": "object",
         "type": "string"
        },
        {
         "name": "lemmas",
         "rawType": "object",
         "type": "unknown"
        }
       ],
       "ref": "73ea5b0a-d9f2-487b-989a-d6ff323c047f",
       "rows": [
        [
         "0",
         "termine bien abrumado después hoy",
         "['terminar', 'bien', 'abrumado', 'después', 'hoy']"
        ],
        [
         "1",
         "siento abrumado",
         "['sentir', 'abrumado']"
        ],
        [
         "2",
         "siento abrumado cantidad cosas quiero dibujar ver jugar leer odio sensación xdddd",
         "['sentir', 'abrumado', 'cantidad', 'cosa', 'querer', 'dibujar', 'ver', 'jugar', 'leer', 'odio', 'sensación', 'xdddd']"
        ],
        [
         "3",
         "salvador única persona abrumado versiones",
         "['salvador', 'único', 'persona', 'abrumado', 'versión']"
        ],
        [
         "4",
         "denme helado ando full abrumado",
         "['denme', 'helado', 'ando', 'full', 'abrumado']"
        ],
        [
         "5",
         "abrumado airdrops youtube imposible gestionarlo mueve rápido determino plan quemo",
         "['abrumado', 'airdrop', 'youtube', 'imposible', 'gestionar', 'él', 'mover', 'rápido', 'determino', 'plan', 'quemo']"
        ],
        [
         "6",
         "veces motivo aparente bien razones quizás fútiles venían encima unas nostalgias inmensas dejaban paralizado abrumado heraldos negros hablaba vallejo",
         "['vez', 'motivo', 'aparente', 'bien', 'razón', 'quizás', 'fútil', 'venir', 'encima', 'uno', 'nostalgia', 'inmenso', 'dejar', 'paralizado', 'abrumado', 'heraldo', 'negro', 'hablar', 'vallejo']"
        ],
        [
         "7",
         "oh vacaciones tesoros inciertos venideros preciados cualquier trabajador abrumado sobreexplotación sueño fugaz dinero parecía importar cambio breve respiro placer diversión alivio tesoro perdido ahora convertido",
         "['oh', 'vacaciones', 'tesoro', 'incierto', 'venidero', 'preciado', 'cualquiera', 'trabajador', 'abrumado', 'sobreexplotación', 'sueño', 'fugaz', 'dinero', 'parecer', 'importar', 'cambio', 'breve', 'respiro', 'placer', 'diversión', 'alivio', 'tesoro', 'perder', 'ahora', 'convertir']"
        ],
        [
         "8",
         "siento abrumado",
         "['sentir', 'abrumado']"
        ],
        [
         "9",
         "consejo nadie pidió si día sientes abrumado triste enojado ansioso cierra ojos piérdete respiración",
         "['consejo', 'nadie', 'pedir', 'si', 'día', 'sentir', 'abrumado', 'triste', 'enojar', 'ansioso', 'cerrar', 'ojo', 'piérdete', 'respiración']"
        ]
       ],
       "shape": {
        "columns": 2,
        "rows": 10
       }
      },
      "text/html": [
       "<div>\n",
       "<style scoped>\n",
       "    .dataframe tbody tr th:only-of-type {\n",
       "        vertical-align: middle;\n",
       "    }\n",
       "\n",
       "    .dataframe tbody tr th {\n",
       "        vertical-align: top;\n",
       "    }\n",
       "\n",
       "    .dataframe thead th {\n",
       "        text-align: right;\n",
       "    }\n",
       "</style>\n",
       "<table border=\"1\" class=\"dataframe\">\n",
       "  <thead>\n",
       "    <tr style=\"text-align: right;\">\n",
       "      <th></th>\n",
       "      <th>clean_text</th>\n",
       "      <th>lemmas</th>\n",
       "    </tr>\n",
       "  </thead>\n",
       "  <tbody>\n",
       "    <tr>\n",
       "      <th>0</th>\n",
       "      <td>termine bien abrumado después hoy</td>\n",
       "      <td>[terminar, bien, abrumado, después, hoy]</td>\n",
       "    </tr>\n",
       "    <tr>\n",
       "      <th>1</th>\n",
       "      <td>siento abrumado</td>\n",
       "      <td>[sentir, abrumado]</td>\n",
       "    </tr>\n",
       "    <tr>\n",
       "      <th>2</th>\n",
       "      <td>siento abrumado cantidad cosas quiero dibujar ...</td>\n",
       "      <td>[sentir, abrumado, cantidad, cosa, querer, dib...</td>\n",
       "    </tr>\n",
       "    <tr>\n",
       "      <th>3</th>\n",
       "      <td>salvador única persona abrumado versiones</td>\n",
       "      <td>[salvador, único, persona, abrumado, versión]</td>\n",
       "    </tr>\n",
       "    <tr>\n",
       "      <th>4</th>\n",
       "      <td>denme helado ando full abrumado</td>\n",
       "      <td>[denme, helado, ando, full, abrumado]</td>\n",
       "    </tr>\n",
       "    <tr>\n",
       "      <th>5</th>\n",
       "      <td>abrumado airdrops youtube imposible gestionarl...</td>\n",
       "      <td>[abrumado, airdrop, youtube, imposible, gestio...</td>\n",
       "    </tr>\n",
       "    <tr>\n",
       "      <th>6</th>\n",
       "      <td>veces motivo aparente bien razones quizás fúti...</td>\n",
       "      <td>[vez, motivo, aparente, bien, razón, quizás, f...</td>\n",
       "    </tr>\n",
       "    <tr>\n",
       "      <th>7</th>\n",
       "      <td>oh vacaciones tesoros inciertos venideros prec...</td>\n",
       "      <td>[oh, vacaciones, tesoro, incierto, venidero, p...</td>\n",
       "    </tr>\n",
       "    <tr>\n",
       "      <th>8</th>\n",
       "      <td>siento abrumado</td>\n",
       "      <td>[sentir, abrumado]</td>\n",
       "    </tr>\n",
       "    <tr>\n",
       "      <th>9</th>\n",
       "      <td>consejo nadie pidió si día sientes abrumado tr...</td>\n",
       "      <td>[consejo, nadie, pedir, si, día, sentir, abrum...</td>\n",
       "    </tr>\n",
       "  </tbody>\n",
       "</table>\n",
       "</div>"
      ],
      "text/plain": [
       "                                          clean_text  \\\n",
       "0                  termine bien abrumado después hoy   \n",
       "1                                    siento abrumado   \n",
       "2  siento abrumado cantidad cosas quiero dibujar ...   \n",
       "3          salvador única persona abrumado versiones   \n",
       "4                    denme helado ando full abrumado   \n",
       "5  abrumado airdrops youtube imposible gestionarl...   \n",
       "6  veces motivo aparente bien razones quizás fúti...   \n",
       "7  oh vacaciones tesoros inciertos venideros prec...   \n",
       "8                                    siento abrumado   \n",
       "9  consejo nadie pidió si día sientes abrumado tr...   \n",
       "\n",
       "                                              lemmas  \n",
       "0           [terminar, bien, abrumado, después, hoy]  \n",
       "1                                 [sentir, abrumado]  \n",
       "2  [sentir, abrumado, cantidad, cosa, querer, dib...  \n",
       "3      [salvador, único, persona, abrumado, versión]  \n",
       "4              [denme, helado, ando, full, abrumado]  \n",
       "5  [abrumado, airdrop, youtube, imposible, gestio...  \n",
       "6  [vez, motivo, aparente, bien, razón, quizás, f...  \n",
       "7  [oh, vacaciones, tesoro, incierto, venidero, p...  \n",
       "8                                 [sentir, abrumado]  \n",
       "9  [consejo, nadie, pedir, si, día, sentir, abrum...  "
      ]
     },
     "execution_count": 7,
     "metadata": {},
     "output_type": "execute_result"
    }
   ],
   "source": [
    "import stanza\n",
    "\n",
    "# Descargar modelo de español (solo la primera vez)\n",
    "stanza.download(\"es\")\n",
    "\n",
    "# Crear pipeline en español\n",
    "nlp = stanza.Pipeline(\"es\", processors=\"tokenize,lemma\", use_gpu=False)\n",
    "\n",
    "# Función para tokenizar y lematizar\n",
    "def tokenize_lemmatize(text):\n",
    "    doc = nlp(text)\n",
    "    return [word.lemma for sent in doc.sentences for word in sent.words]\n",
    "\n",
    "# Aplicar al corpus\n",
    "df[\"lemmas\"] = df[\"clean_text\"].apply(tokenize_lemmatize)\n",
    "df[[\"clean_text\", \"lemmas\"]].head(10)\n"
   ]
  },
  {
   "cell_type": "code",
   "execution_count": 9,
   "id": "72335f8f",
   "metadata": {},
   "outputs": [
    {
     "name": "stdout",
     "output_type": "stream",
     "text": [
      "Similitud abrumado - abrumao: 0.88\n",
      "Similitud feliz - felices: 0.57\n",
      "Similitud hotel - hostel: 0.83\n",
      "Similitud bueno - vueno: 0.80\n"
     ]
    }
   ],
   "source": [
    "import Levenshtein\n",
    "\n",
    "# Función para calcular similitud normalizada\n",
    "def levenshtein_sim(word1, word2):\n",
    "    if not word1 or not word2:\n",
    "        return 0\n",
    "    return 1 - (Levenshtein.distance(word1, word2) / max(len(word1), len(word2)))\n",
    "\n",
    "# Ejemplos de similitud\n",
    "ejemplos = [(\"abrumado\", \"abrumao\"),\n",
    "            (\"feliz\", \"felices\"),\n",
    "            (\"hotel\", \"hostel\"),\n",
    "            (\"bueno\", \"vueno\")]\n",
    "\n",
    "for w1, w2 in ejemplos:\n",
    "    print(f\"Similitud {w1} - {w2}: {levenshtein_sim(w1, w2):.2f}\")\n"
   ]
  },
  {
   "cell_type": "code",
   "execution_count": 11,
   "id": "5302c168",
   "metadata": {},
   "outputs": [
    {
     "data": {
      "text/plain": [
       "{'sobrecarga': 'sobrecargado'}"
      ]
     },
     "execution_count": 11,
     "metadata": {},
     "output_type": "execute_result"
    }
   ],
   "source": [
    "from collections import Counter\n",
    "\n",
    "# Obtener todas las palabras del corpus (lematizadas para más consistencia)\n",
    "all_words = [lemma for tokens in df[\"lemmas\"] for lemma in tokens]\n",
    "word_freq = Counter(all_words)\n",
    "\n",
    "# Seleccionar palabras poco frecuentes (candidatas a errores)\n",
    "rare_words = [w for w, f in word_freq.items() if f == 1]\n",
    "\n",
    "# Comparar rare_words con palabras frecuentes para sugerir similitud\n",
    "frequent_words = [w for w, f in word_freq.items() if f > 5]\n",
    "\n",
    "# Buscar rare_words similares a frequent_words\n",
    "sugerencias = {}\n",
    "for rw in rare_words[:20]:  # limitar a 20 para ejemplo\n",
    "    for fw in frequent_words:\n",
    "        if levenshtein_sim(rw, fw) > 0.8 and rw != fw:\n",
    "            sugerencias[rw] = fw\n",
    "            break\n",
    "\n",
    "sugerencias\n"
   ]
  },
  {
   "cell_type": "markdown",
   "id": "dc845739",
   "metadata": {},
   "source": [
    "# ✍️ 2. Representación del Texto  \n",
    "\n",
    "En esta sección se construyen diferentes representaciones vectoriales del corpus en español, para comparar su capacidad de capturar información semántica:  \n",
    "\n",
    "1. **Bolsa de Palabras (BoW)** y **TF-IDF**: representaciones clásicas basadas en frecuencias.  \n",
    "2. **Matriz de co-ocurrencia** y aplicación de **PPMI** para capturar relaciones entre palabras.  \n",
    "3. **Embeddings**: representación densa mediante modelos como Word2Vec o FastText.  \n",
    "4. **Visualización comparativa** de las representaciones con técnicas de reducción de dimensionalidad (PCA o t-SNE).  \n",
    "\n",
    "---"
   ]
  },
  {
   "cell_type": "code",
   "execution_count": 13,
   "id": "006c93eb",
   "metadata": {},
   "outputs": [
    {
     "name": "stdout",
     "output_type": "stream",
     "text": [
      "BoW shape: (2590, 2000)\n",
      "TF-IDF shape: (2590, 2000)\n"
     ]
    }
   ],
   "source": [
    "from sklearn.feature_extraction.text import CountVectorizer, TfidfVectorizer\n",
    "\n",
    "# Usaremos el texto limpio\n",
    "texts = df[\"clean_text\"].astype(str).tolist()\n",
    "\n",
    "# BoW\n",
    "bow_vectorizer = CountVectorizer(max_features=2000)  # limitamos a 2000 palabras más frecuentes\n",
    "X_bow = bow_vectorizer.fit_transform(texts)\n",
    "\n",
    "# TF-IDF\n",
    "tfidf_vectorizer = TfidfVectorizer(max_features=2000)\n",
    "X_tfidf = tfidf_vectorizer.fit_transform(texts)\n",
    "\n",
    "print(\"BoW shape:\", X_bow.shape)\n",
    "print(\"TF-IDF shape:\", X_tfidf.shape)\n"
   ]
  },
  {
   "cell_type": "code",
   "execution_count": 14,
   "id": "03dabac8",
   "metadata": {},
   "outputs": [
    {
     "data": {
      "text/plain": [
       "(500, 500)"
      ]
     },
     "execution_count": 14,
     "metadata": {},
     "output_type": "execute_result"
    }
   ],
   "source": [
    "import numpy as np\n",
    "from collections import defaultdict\n",
    "\n",
    "# Crear vocabulario limitado\n",
    "vectorizer = CountVectorizer(max_features=500, stop_words=list(stop_words))\n",
    "X_counts = vectorizer.fit_transform(texts)\n",
    "vocab = vectorizer.get_feature_names_out()\n",
    "\n",
    "# Matriz de co-ocurrencia (ventana = 2)\n",
    "window_size = 2\n",
    "co_occurrence = np.zeros((len(vocab), len(vocab)))\n",
    "\n",
    "for text in texts:\n",
    "    tokens = text.split()\n",
    "    for i, word in enumerate(tokens):\n",
    "        if word in vocab:\n",
    "            word_idx = np.where(vocab == word)[0][0]\n",
    "            start = max(0, i - window_size)\n",
    "            end = min(len(tokens), i + window_size + 1)\n",
    "            for j in range(start, end):\n",
    "                if i != j and tokens[j] in vocab:\n",
    "                    context_idx = np.where(vocab == tokens[j])[0][0]\n",
    "                    co_occurrence[word_idx, context_idx] += 1\n",
    "\n",
    "# Aplicar PPMI\n",
    "total_sum = np.sum(co_occurrence)\n",
    "word_freqs = np.sum(co_occurrence, axis=1)\n",
    "\n",
    "ppmi = np.zeros_like(co_occurrence)\n",
    "for i in range(len(vocab)):\n",
    "    for j in range(len(vocab)):\n",
    "        if co_occurrence[i, j] > 0:\n",
    "            p_ij = co_occurrence[i, j] / total_sum\n",
    "            p_i = word_freqs[i] / total_sum\n",
    "            p_j = word_freqs[j] / total_sum\n",
    "            value = np.log2(p_ij / (p_i * p_j))\n",
    "            ppmi[i, j] = max(value, 0)\n",
    "\n",
    "ppmi.shape\n"
   ]
  },
  {
   "cell_type": "code",
   "execution_count": 23,
   "id": "244762ca",
   "metadata": {},
   "outputs": [
    {
     "name": "stderr",
     "output_type": "stream",
     "text": [
      "c:\\Users\\Alvar\\OneDrive\\Documentos\\SemestreX\\Natural Language Process\\spanish-twitter-sentiment-nlp\\.venv\\lib\\site-packages\\huggingface_hub\\file_download.py:143: UserWarning: `huggingface_hub` cache-system uses symlinks by default to efficiently store duplicated files but your machine does not support them in C:\\Users\\Alvar\\.cache\\huggingface\\hub\\models--dccuchile--bert-base-spanish-wwm-cased. Caching files will still work but in a degraded version that might require more space on your disk. This warning can be disabled by setting the `HF_HUB_DISABLE_SYMLINKS_WARNING` environment variable. For more details, see https://huggingface.co/docs/huggingface_hub/how-to-cache#limitations.\n",
      "To support symlinks on Windows, you either need to activate Developer Mode or to run Python as an administrator. In order to activate developer mode, see this article: https://docs.microsoft.com/en-us/windows/apps/get-started/enable-your-device-for-development\n",
      "  warnings.warn(message)\n",
      "Xet Storage is enabled for this repo, but the 'hf_xet' package is not installed. Falling back to regular HTTP download. For better performance, install the package with: `pip install huggingface_hub[hf_xet]` or `pip install hf_xet`\n",
      "Some weights of BertModel were not initialized from the model checkpoint at dccuchile/bert-base-spanish-wwm-cased and are newly initialized: ['pooler.dense.bias', 'pooler.dense.weight']\n",
      "You should probably TRAIN this model on a down-stream task to be able to use it for predictions and inference.\n"
     ]
    },
    {
     "data": {
      "text/plain": [
       "array([-0.5136094 , -0.37982383, -0.2307035 , -0.44034883,  0.2237286 ,\n",
       "       -0.5204328 , -0.2511187 ,  0.5602404 , -0.08720608, -0.01238043],\n",
       "      dtype=float32)"
      ]
     },
     "execution_count": 23,
     "metadata": {},
     "output_type": "execute_result"
    },
    {
     "name": "stderr",
     "output_type": "stream",
     "text": [
      "Xet Storage is enabled for this repo, but the 'hf_xet' package is not installed. Falling back to regular HTTP download. For better performance, install the package with: `pip install huggingface_hub[hf_xet]` or `pip install hf_xet`\n"
     ]
    }
   ],
   "source": [
    "from transformers import AutoTokenizer, AutoModel\n",
    "import torch\n",
    "\n",
    "# cargar modelo BETO (BERT entrenado en español)\n",
    "tokenizer = AutoTokenizer.from_pretrained(\"dccuchile/bert-base-spanish-wwm-cased\")\n",
    "model = AutoModel.from_pretrained(\"dccuchile/bert-base-spanish-wwm-cased\")\n",
    "\n",
    "# ejemplo: obtener embedding de una palabra\n",
    "text = \"Me siento abrumado\"\n",
    "inputs = tokenizer(text, return_tensors=\"pt\")\n",
    "outputs = model(**inputs)\n",
    "\n",
    "# vector de la primera palabra\n",
    "embedding = outputs.last_hidden_state[0][1].detach().numpy()\n",
    "embedding[:10]\n"
   ]
  },
  {
   "cell_type": "code",
   "execution_count": 25,
   "id": "589bb9f0",
   "metadata": {},
   "outputs": [
    {
     "data": {
      "image/png": "[encoded data removed]",
      "text/plain": [
       "<Figure size 1200x500 with 2 Axes>"
      ]
     },
     "metadata": {},
     "output_type": "display_data"
    }
   ],
   "source": [
    "from sklearn.decomposition import PCA\n",
    "import matplotlib.pyplot as plt\n",
    "\n",
    "# Reducir a 2D con PCA\n",
    "pca_bow = PCA(n_components=2).fit_transform(X_bow.toarray())\n",
    "pca_tfidf = PCA(n_components=2).fit_transform(X_tfidf.toarray())\n",
    "\n",
    "# Visualizar\n",
    "plt.figure(figsize=(12,5))\n",
    "\n",
    "plt.subplot(1,2,1)\n",
    "plt.scatter(pca_bow[:,0], pca_bow[:,1], alpha=0.5)\n",
    "plt.title(\"BoW con PCA\")\n",
    "\n",
    "plt.subplot(1,2,2)\n",
    "plt.scatter(pca_tfidf[:,0], pca_tfidf[:,1], alpha=0.5, color=\"orange\")\n",
    "plt.title(\"TF-IDF con PCA\")\n",
    "\n",
    "plt.show()\n"
   ]
  },
  {
   "cell_type": "code",
   "execution_count": 27,
   "id": "2df1d14d",
   "metadata": {},
   "outputs": [
    {
     "data": {
      "image/png": "[encoded data removed]",
      "text/plain": [
       "<Figure size 600x600 with 1 Axes>"
      ]
     },
     "metadata": {},
     "output_type": "display_data"
    }
   ],
   "source": [
    "# Generar embeddings promedio de cada tweet\n",
    "def get_sentence_embedding(text):\n",
    "    inputs = tokenizer(text, return_tensors=\"pt\", truncation=True, padding=True, max_length=50)\n",
    "    outputs = model(**inputs)\n",
    "    # vector promedio de todos los tokens\n",
    "    return outputs.last_hidden_state.mean(dim=1).detach().numpy().flatten()\n",
    "\n",
    "# Calcular embeddings para un subconjunto de tweets (ej: 500 para que no tarde mucho)\n",
    "subset = df[\"clean_text\"].astype(str).sample(500, random_state=42).tolist()\n",
    "embeddings = np.array([get_sentence_embedding(t) for t in subset])\n",
    "\n",
    "# Reducir a 2D con PCA\n",
    "pca_beto = PCA(n_components=2).fit_transform(embeddings)\n",
    "\n",
    "# Visualizar\n",
    "plt.figure(figsize=(6,6))\n",
    "plt.scatter(pca_beto[:,0], pca_beto[:,1], alpha=0.5, color=\"green\")\n",
    "plt.title(\"BETO embeddings con PCA\")\n",
    "plt.show()\n"
   ]
  },
  {
   "cell_type": "markdown",
   "id": "6228920a",
   "metadata": {},
   "source": [
    "# 🧮 3. Modelos Probabilísticos\n"
   ]
  },
  {
   "cell_type": "code",
   "execution_count": null,
   "id": "29657a1e",
   "metadata": {},
   "outputs": [],
   "source": [
    "# Code here"
   ]
  },
  {
   "cell_type": "markdown",
   "id": "4de9c65a",
   "metadata": {},
   "source": [
    "# 🤖 4. Modelo avanzado"
   ]
  },
  {
   "cell_type": "code",
   "execution_count": null,
   "id": "418ab12d",
   "metadata": {},
   "outputs": [],
   "source": [
    "# Code here"
   ]
  }
 ],
 "metadata": {
  "kernelspec": {
   "display_name": ".venv",
   "language": "python",
   "name": "python3"
  },
  "language_info": {
   "codemirror_mode": {
    "name": "ipython",
    "version": 3
   },
   "file_extension": ".py",
   "mimetype": "text/x-python",
   "name": "python",
   "nbconvert_exporter": "python",
   "pygments_lexer": "ipython3",
   "version": "3.9.2"
  }
 },
 "nbformat": 4,
 "nbformat_minor": 5
}
