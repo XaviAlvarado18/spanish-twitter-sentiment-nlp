{
 "cells": [
  {
   "cell_type": "markdown",
   "id": "f367ef37",
   "metadata": {},
   "source": [
    "# 🐦 Twitter Sentiment Analysis in Spanish Tweets  \n",
    "\n",
    "## 👥 Authors\n",
    "- **Kristopher Javier Alvarado López** — Carné: 21188  \n",
    "- **Emilio Jose Solano Orozco** — Carné: 21212  \n",
    "\n",
    "---\n",
    "\n",
    "## 📖 Project Description\n",
    "Este proyecto consiste en el desarrollo de un **pipeline completo de Procesamiento de Lenguaje Natural (NLP)** aplicado a tweets en español.  \n",
    "El objetivo es analizar el sentimiento expresado en los mensajes (positivo, negativo o neutro) integrando las siguientes etapas:  \n",
    "\n",
    "1. **Preprocesamiento del texto**: limpieza, tokenización, lematización, normalización y corrección ortográfica.  \n",
    "2. **Representación de texto**: Bag of Words (BoW), TF-IDF, matrices de co-ocurrencia y embeddings.  \n",
    "3. **Modelos probabilísticos**: construcción de modelos N-gram y evaluación con entropía y perplejidad.  \n",
    "4. **Modelos de clasificación**: aplicación de algoritmos supervisados para la detección automática de sentimiento.  \n",
    "5. **Evaluación y discusión crítica** de resultados.  \n",
    "\n",
    "---\n",
    "\n",
    "## 🌍 English Abstract\n",
    "This project presents the development of a **complete NLP pipeline** for sentiment analysis in Spanish tweets.  \n",
    "The main goal is to evaluate different text preprocessing techniques, representation models, and machine learning approaches to classify tweets into sentiment categories (positive, negative, neutral). The project combines classical probabilistic language models with modern embedding-based techniques, offering a critical analysis of their performance on real-world social media data.\n"
   ]
  },
  {
   "cell_type": "code",
   "execution_count": 2,
   "id": "d7bd7fcb",
   "metadata": {},
   "outputs": [
    {
     "name": "stdout",
     "output_type": "stream",
     "text": [
      "Columnas originales: ['user', 'text', 'date', 'emotion', 'sentiment']\n",
      "Tamaño del dataset: (2590, 5)\n"
     ]
    },
    {
     "data": {
      "application/vnd.microsoft.datawrangler.viewer.v0+json": {
       "columns": [
        {
         "name": "index",
         "rawType": "int64",
         "type": "integer"
        },
        {
         "name": "user",
         "rawType": "object",
         "type": "string"
        },
        {
         "name": "text",
         "rawType": "object",
         "type": "string"
        },
        {
         "name": "date",
         "rawType": "object",
         "type": "string"
        },
        {
         "name": "emotion",
         "rawType": "object",
         "type": "string"
        },
        {
         "name": "sentiment",
         "rawType": "object",
         "type": "string"
        }
       ],
       "ref": "c93aa84d-c0ff-4698-8511-fa300967d613",
       "rows": [
        [
         "0",
         "@erreborda",
         "termine bien abrumado después de hoy",
         "Jan 6, 2024 · 2:53 AM UTC",
         "overwhelmed",
         "scared"
        ],
        [
         "1",
         "@shpiderduck",
         "me siento abrumado",
         "Jan 6, 2024 · 2:35 AM UTC",
         "overwhelmed",
         "scared"
        ],
        [
         "2",
         "@Alex_R_art",
         "Me siento un poco abrumado por la cantidad de cosas que quiero dibujar, ver, jugar y leer. Odio esta sensación xdddd",
         "Jan 6, 2024 · 12:20 AM UTC",
         "overwhelmed",
         "scared"
        ],
        [
         "3",
         "@anggelinaa97",
         "Salvador la única persona que no la ha abrumado de versiones❤😒❤ #NadieComoTú",
         "Jan 5, 2024 · 10:38 PM UTC",
         "overwhelmed",
         "scared"
        ],
        [
         "4",
         "@diegoreyesvqz",
         "Denme un helado o algo que ando full abrumado.",
         "Jan 5, 2024 · 8:38 PM UTC",
         "overwhelmed",
         "scared"
        ]
       ],
       "shape": {
        "columns": 5,
        "rows": 5
       }
      },
      "text/html": [
       "<div>\n",
       "<style scoped>\n",
       "    .dataframe tbody tr th:only-of-type {\n",
       "        vertical-align: middle;\n",
       "    }\n",
       "\n",
       "    .dataframe tbody tr th {\n",
       "        vertical-align: top;\n",
       "    }\n",
       "\n",
       "    .dataframe thead th {\n",
       "        text-align: right;\n",
       "    }\n",
       "</style>\n",
       "<table border=\"1\" class=\"dataframe\">\n",
       "  <thead>\n",
       "    <tr style=\"text-align: right;\">\n",
       "      <th></th>\n",
       "      <th>user</th>\n",
       "      <th>text</th>\n",
       "      <th>date</th>\n",
       "      <th>emotion</th>\n",
       "      <th>sentiment</th>\n",
       "    </tr>\n",
       "  </thead>\n",
       "  <tbody>\n",
       "    <tr>\n",
       "      <th>0</th>\n",
       "      <td>@erreborda</td>\n",
       "      <td>termine bien abrumado después de hoy</td>\n",
       "      <td>Jan 6, 2024 · 2:53 AM UTC</td>\n",
       "      <td>overwhelmed</td>\n",
       "      <td>scared</td>\n",
       "    </tr>\n",
       "    <tr>\n",
       "      <th>1</th>\n",
       "      <td>@shpiderduck</td>\n",
       "      <td>me siento abrumado</td>\n",
       "      <td>Jan 6, 2024 · 2:35 AM UTC</td>\n",
       "      <td>overwhelmed</td>\n",
       "      <td>scared</td>\n",
       "    </tr>\n",
       "    <tr>\n",
       "      <th>2</th>\n",
       "      <td>@Alex_R_art</td>\n",
       "      <td>Me siento un poco abrumado por la cantidad de ...</td>\n",
       "      <td>Jan 6, 2024 · 12:20 AM UTC</td>\n",
       "      <td>overwhelmed</td>\n",
       "      <td>scared</td>\n",
       "    </tr>\n",
       "    <tr>\n",
       "      <th>3</th>\n",
       "      <td>@anggelinaa97</td>\n",
       "      <td>Salvador la única persona que no la ha abrumad...</td>\n",
       "      <td>Jan 5, 2024 · 10:38 PM UTC</td>\n",
       "      <td>overwhelmed</td>\n",
       "      <td>scared</td>\n",
       "    </tr>\n",
       "    <tr>\n",
       "      <th>4</th>\n",
       "      <td>@diegoreyesvqz</td>\n",
       "      <td>Denme un helado o algo que ando full abrumado.</td>\n",
       "      <td>Jan 5, 2024 · 8:38 PM UTC</td>\n",
       "      <td>overwhelmed</td>\n",
       "      <td>scared</td>\n",
       "    </tr>\n",
       "  </tbody>\n",
       "</table>\n",
       "</div>"
      ],
      "text/plain": [
       "             user                                               text  \\\n",
       "0      @erreborda               termine bien abrumado después de hoy   \n",
       "1    @shpiderduck                                 me siento abrumado   \n",
       "2     @Alex_R_art  Me siento un poco abrumado por la cantidad de ...   \n",
       "3   @anggelinaa97  Salvador la única persona que no la ha abrumad...   \n",
       "4  @diegoreyesvqz     Denme un helado o algo que ando full abrumado.   \n",
       "\n",
       "                         date      emotion sentiment  \n",
       "0   Jan 6, 2024 · 2:53 AM UTC  overwhelmed    scared  \n",
       "1   Jan 6, 2024 · 2:35 AM UTC  overwhelmed    scared  \n",
       "2  Jan 6, 2024 · 12:20 AM UTC  overwhelmed    scared  \n",
       "3  Jan 5, 2024 · 10:38 PM UTC  overwhelmed    scared  \n",
       "4   Jan 5, 2024 · 8:38 PM UTC  overwhelmed    scared  "
      ]
     },
     "execution_count": 2,
     "metadata": {},
     "output_type": "execute_result"
    }
   ],
   "source": [
    "import pandas as pd\n",
    "\n",
    "# Cargar dataset\n",
    "df = pd.read_csv(\"data/sentiment_analysis_dataset.csv\")\n",
    "\n",
    "# Vista rápida\n",
    "print(\"Columnas originales:\", df.columns.tolist())\n",
    "print(\"Tamaño del dataset:\", df.shape)\n",
    "df.head()\n"
   ]
  },
  {
   "cell_type": "code",
   "execution_count": 3,
   "id": "bc2d244e",
   "metadata": {},
   "outputs": [
    {
     "name": "stdout",
     "output_type": "stream",
     "text": [
      "Columnas después de eliminar 'sentiment': ['user', 'text', 'date', 'emotion']\n"
     ]
    },
    {
     "data": {
      "application/vnd.microsoft.datawrangler.viewer.v0+json": {
       "columns": [
        {
         "name": "index",
         "rawType": "int64",
         "type": "integer"
        },
        {
         "name": "user",
         "rawType": "object",
         "type": "string"
        },
        {
         "name": "text",
         "rawType": "object",
         "type": "string"
        },
        {
         "name": "date",
         "rawType": "object",
         "type": "string"
        },
        {
         "name": "emotion",
         "rawType": "object",
         "type": "string"
        }
       ],
       "ref": "33004585-3177-400c-9120-b64c440ef28b",
       "rows": [
        [
         "0",
         "@erreborda",
         "termine bien abrumado después de hoy",
         "Jan 6, 2024 · 2:53 AM UTC",
         "overwhelmed"
        ],
        [
         "1",
         "@shpiderduck",
         "me siento abrumado",
         "Jan 6, 2024 · 2:35 AM UTC",
         "overwhelmed"
        ],
        [
         "2",
         "@Alex_R_art",
         "Me siento un poco abrumado por la cantidad de cosas que quiero dibujar, ver, jugar y leer. Odio esta sensación xdddd",
         "Jan 6, 2024 · 12:20 AM UTC",
         "overwhelmed"
        ],
        [
         "3",
         "@anggelinaa97",
         "Salvador la única persona que no la ha abrumado de versiones❤😒❤ #NadieComoTú",
         "Jan 5, 2024 · 10:38 PM UTC",
         "overwhelmed"
        ],
        [
         "4",
         "@diegoreyesvqz",
         "Denme un helado o algo que ando full abrumado.",
         "Jan 5, 2024 · 8:38 PM UTC",
         "overwhelmed"
        ]
       ],
       "shape": {
        "columns": 4,
        "rows": 5
       }
      },
      "text/html": [
       "<div>\n",
       "<style scoped>\n",
       "    .dataframe tbody tr th:only-of-type {\n",
       "        vertical-align: middle;\n",
       "    }\n",
       "\n",
       "    .dataframe tbody tr th {\n",
       "        vertical-align: top;\n",
       "    }\n",
       "\n",
       "    .dataframe thead th {\n",
       "        text-align: right;\n",
       "    }\n",
       "</style>\n",
       "<table border=\"1\" class=\"dataframe\">\n",
       "  <thead>\n",
       "    <tr style=\"text-align: right;\">\n",
       "      <th></th>\n",
       "      <th>user</th>\n",
       "      <th>text</th>\n",
       "      <th>date</th>\n",
       "      <th>emotion</th>\n",
       "    </tr>\n",
       "  </thead>\n",
       "  <tbody>\n",
       "    <tr>\n",
       "      <th>0</th>\n",
       "      <td>@erreborda</td>\n",
       "      <td>termine bien abrumado después de hoy</td>\n",
       "      <td>Jan 6, 2024 · 2:53 AM UTC</td>\n",
       "      <td>overwhelmed</td>\n",
       "    </tr>\n",
       "    <tr>\n",
       "      <th>1</th>\n",
       "      <td>@shpiderduck</td>\n",
       "      <td>me siento abrumado</td>\n",
       "      <td>Jan 6, 2024 · 2:35 AM UTC</td>\n",
       "      <td>overwhelmed</td>\n",
       "    </tr>\n",
       "    <tr>\n",
       "      <th>2</th>\n",
       "      <td>@Alex_R_art</td>\n",
       "      <td>Me siento un poco abrumado por la cantidad de ...</td>\n",
       "      <td>Jan 6, 2024 · 12:20 AM UTC</td>\n",
       "      <td>overwhelmed</td>\n",
       "    </tr>\n",
       "    <tr>\n",
       "      <th>3</th>\n",
       "      <td>@anggelinaa97</td>\n",
       "      <td>Salvador la única persona que no la ha abrumad...</td>\n",
       "      <td>Jan 5, 2024 · 10:38 PM UTC</td>\n",
       "      <td>overwhelmed</td>\n",
       "    </tr>\n",
       "    <tr>\n",
       "      <th>4</th>\n",
       "      <td>@diegoreyesvqz</td>\n",
       "      <td>Denme un helado o algo que ando full abrumado.</td>\n",
       "      <td>Jan 5, 2024 · 8:38 PM UTC</td>\n",
       "      <td>overwhelmed</td>\n",
       "    </tr>\n",
       "  </tbody>\n",
       "</table>\n",
       "</div>"
      ],
      "text/plain": [
       "             user                                               text  \\\n",
       "0      @erreborda               termine bien abrumado después de hoy   \n",
       "1    @shpiderduck                                 me siento abrumado   \n",
       "2     @Alex_R_art  Me siento un poco abrumado por la cantidad de ...   \n",
       "3   @anggelinaa97  Salvador la única persona que no la ha abrumad...   \n",
       "4  @diegoreyesvqz     Denme un helado o algo que ando full abrumado.   \n",
       "\n",
       "                         date      emotion  \n",
       "0   Jan 6, 2024 · 2:53 AM UTC  overwhelmed  \n",
       "1   Jan 6, 2024 · 2:35 AM UTC  overwhelmed  \n",
       "2  Jan 6, 2024 · 12:20 AM UTC  overwhelmed  \n",
       "3  Jan 5, 2024 · 10:38 PM UTC  overwhelmed  \n",
       "4   Jan 5, 2024 · 8:38 PM UTC  overwhelmed  "
      ]
     },
     "execution_count": 3,
     "metadata": {},
     "output_type": "execute_result"
    }
   ],
   "source": [
    "# Eliminar la columna 'sentiment'\n",
    "df = df.drop(columns=[\"sentiment\"])\n",
    "\n",
    "# Revisar cambios\n",
    "print(\"Columnas después de eliminar 'sentiment':\", df.columns.tolist())\n",
    "df.head()\n"
   ]
  },
  {
   "cell_type": "markdown",
   "id": "afef889d",
   "metadata": {},
   "source": [
    "# 🛠️ 1. Preprocesamiento del Corpus  \n",
    "\n",
    "En esta sección realizamos el **preprocesamiento de los tweets en español** para preparar el corpus antes de aplicar modelos de NLP.  \n",
    "\n",
    "Las tareas principales son:  \n",
    "\n",
    "1. **Limpieza del texto**: conversión a minúsculas, eliminación de puntuación, URLs, menciones y stopwords.  \n",
    "2. **Tokenización**: separación de cada oración en palabras.  \n",
    "3. **Lematización y stemming**: reducción de palabras a su raíz o forma base.  \n",
    "4. **Uso del algoritmo de Levenshtein**: detección de similitudes y posibles errores ortográficos en el texto.  \n",
    "\n",
    "---"
   ]
  },
  {
   "cell_type": "code",
   "execution_count": 6,
   "id": "f6c84cde",
   "metadata": {},
   "outputs": [
    {
     "name": "stderr",
     "output_type": "stream",
     "text": [
      "[nltk_data] Downloading package stopwords to\n",
      "[nltk_data]     C:\\Users\\Alvar\\AppData\\Roaming\\nltk_data...\n",
      "[nltk_data]   Unzipping corpora\\stopwords.zip.\n"
     ]
    },
    {
     "data": {
      "application/vnd.microsoft.datawrangler.viewer.v0+json": {
       "columns": [
        {
         "name": "index",
         "rawType": "int64",
         "type": "integer"
        },
        {
         "name": "text",
         "rawType": "object",
         "type": "string"
        },
        {
         "name": "clean_text",
         "rawType": "object",
         "type": "string"
        }
       ],
       "ref": "7db33d5d-5210-44a3-a27e-763ecf586cdc",
       "rows": [
        [
         "0",
         "termine bien abrumado después de hoy",
         "termine bien abrumado después hoy"
        ],
        [
         "1",
         "me siento abrumado",
         "siento abrumado"
        ],
        [
         "2",
         "Me siento un poco abrumado por la cantidad de cosas que quiero dibujar, ver, jugar y leer. Odio esta sensación xdddd",
         "siento abrumado cantidad cosas quiero dibujar ver jugar leer odio sensación xdddd"
        ],
        [
         "3",
         "Salvador la única persona que no la ha abrumado de versiones❤😒❤ #NadieComoTú",
         "salvador única persona abrumado versiones"
        ],
        [
         "4",
         "Denme un helado o algo que ando full abrumado.",
         "denme helado ando full abrumado"
        ],
        [
         "5",
         "Estoy abrumado de airdrops , de youtube y de todo. Es imposible gestionarlo todo , todo se mueve muy rápido. O determino un plan o me quemo",
         "abrumado airdrops youtube imposible gestionarlo mueve rápido determino plan quemo"
        ],
        [
         "6",
         "#MicroCuento: A veces, sin motivo aparente, o, más bien, por razones quizás fútiles, se le venían encima unas nostalgias inmensas, que lo dejaban paralizado y abrumado... ¿Serían los \"Heraldos Negros\" de los que hablaba Vallejo?...",
         "veces motivo aparente bien razones quizás fútiles venían encima unas nostalgias inmensas dejaban paralizado abrumado heraldos negros hablaba vallejo"
        ],
        [
         "7",
         "Oh, las vacaciones. Tesoros inciertos, venideros y preciados para cualquier trabajador abrumado por la sobreexplotación. Un sueño fugaz en el que el dinero parecía no importar, a cambio de un breve respiro de placer, diversión y alivio.  Su tesoro perdido, ahora convertido",
         "oh vacaciones tesoros inciertos venideros preciados cualquier trabajador abrumado sobreexplotación sueño fugaz dinero parecía importar cambio breve respiro placer diversión alivio tesoro perdido ahora convertido"
        ],
        [
         "8",
         "me siento muy abrumado",
         "siento abrumado"
        ],
        [
         "9",
         "Consejo  que nadie pidió:  Si un día te sientes abrumado, triste, enojado, ansioso…   Cierra tus ojos, y piérdete en tu respiración",
         "consejo nadie pidió si día sientes abrumado triste enojado ansioso cierra ojos piérdete respiración"
        ]
       ],
       "shape": {
        "columns": 2,
        "rows": 10
       }
      },
      "text/html": [
       "<div>\n",
       "<style scoped>\n",
       "    .dataframe tbody tr th:only-of-type {\n",
       "        vertical-align: middle;\n",
       "    }\n",
       "\n",
       "    .dataframe tbody tr th {\n",
       "        vertical-align: top;\n",
       "    }\n",
       "\n",
       "    .dataframe thead th {\n",
       "        text-align: right;\n",
       "    }\n",
       "</style>\n",
       "<table border=\"1\" class=\"dataframe\">\n",
       "  <thead>\n",
       "    <tr style=\"text-align: right;\">\n",
       "      <th></th>\n",
       "      <th>text</th>\n",
       "      <th>clean_text</th>\n",
       "    </tr>\n",
       "  </thead>\n",
       "  <tbody>\n",
       "    <tr>\n",
       "      <th>0</th>\n",
       "      <td>termine bien abrumado después de hoy</td>\n",
       "      <td>termine bien abrumado después hoy</td>\n",
       "    </tr>\n",
       "    <tr>\n",
       "      <th>1</th>\n",
       "      <td>me siento abrumado</td>\n",
       "      <td>siento abrumado</td>\n",
       "    </tr>\n",
       "    <tr>\n",
       "      <th>2</th>\n",
       "      <td>Me siento un poco abrumado por la cantidad de ...</td>\n",
       "      <td>siento abrumado cantidad cosas quiero dibujar ...</td>\n",
       "    </tr>\n",
       "    <tr>\n",
       "      <th>3</th>\n",
       "      <td>Salvador la única persona que no la ha abrumad...</td>\n",
       "      <td>salvador única persona abrumado versiones</td>\n",
       "    </tr>\n",
       "    <tr>\n",
       "      <th>4</th>\n",
       "      <td>Denme un helado o algo que ando full abrumado.</td>\n",
       "      <td>denme helado ando full abrumado</td>\n",
       "    </tr>\n",
       "    <tr>\n",
       "      <th>5</th>\n",
       "      <td>Estoy abrumado de airdrops , de youtube y de t...</td>\n",
       "      <td>abrumado airdrops youtube imposible gestionarl...</td>\n",
       "    </tr>\n",
       "    <tr>\n",
       "      <th>6</th>\n",
       "      <td>#MicroCuento: A veces, sin motivo aparente, o,...</td>\n",
       "      <td>veces motivo aparente bien razones quizás fúti...</td>\n",
       "    </tr>\n",
       "    <tr>\n",
       "      <th>7</th>\n",
       "      <td>Oh, las vacaciones. Tesoros inciertos, venider...</td>\n",
       "      <td>oh vacaciones tesoros inciertos venideros prec...</td>\n",
       "    </tr>\n",
       "    <tr>\n",
       "      <th>8</th>\n",
       "      <td>me siento muy abrumado</td>\n",
       "      <td>siento abrumado</td>\n",
       "    </tr>\n",
       "    <tr>\n",
       "      <th>9</th>\n",
       "      <td>Consejo  que nadie pidió:  Si un día te siente...</td>\n",
       "      <td>consejo nadie pidió si día sientes abrumado tr...</td>\n",
       "    </tr>\n",
       "  </tbody>\n",
       "</table>\n",
       "</div>"
      ],
      "text/plain": [
       "                                                text  \\\n",
       "0               termine bien abrumado después de hoy   \n",
       "1                                 me siento abrumado   \n",
       "2  Me siento un poco abrumado por la cantidad de ...   \n",
       "3  Salvador la única persona que no la ha abrumad...   \n",
       "4     Denme un helado o algo que ando full abrumado.   \n",
       "5  Estoy abrumado de airdrops , de youtube y de t...   \n",
       "6  #MicroCuento: A veces, sin motivo aparente, o,...   \n",
       "7  Oh, las vacaciones. Tesoros inciertos, venider...   \n",
       "8                             me siento muy abrumado   \n",
       "9  Consejo  que nadie pidió:  Si un día te siente...   \n",
       "\n",
       "                                          clean_text  \n",
       "0                  termine bien abrumado después hoy  \n",
       "1                                    siento abrumado  \n",
       "2  siento abrumado cantidad cosas quiero dibujar ...  \n",
       "3          salvador única persona abrumado versiones  \n",
       "4                    denme helado ando full abrumado  \n",
       "5  abrumado airdrops youtube imposible gestionarl...  \n",
       "6  veces motivo aparente bien razones quizás fúti...  \n",
       "7  oh vacaciones tesoros inciertos venideros prec...  \n",
       "8                                    siento abrumado  \n",
       "9  consejo nadie pidió si día sientes abrumado tr...  "
      ]
     },
     "execution_count": 6,
     "metadata": {},
     "output_type": "execute_result"
    }
   ],
   "source": [
    "import re\n",
    "import pandas as pd\n",
    "import nltk\n",
    "from nltk.corpus import stopwords\n",
    "\n",
    "# Descargar stopwords (solo primera vez)\n",
    "nltk.download('stopwords')\n",
    "stop_words = set(stopwords.words('spanish'))\n",
    "\n",
    "# 🔹 Función de limpieza\n",
    "def clean_text(text):\n",
    "    text = text.lower()  # minúsculas\n",
    "    text = re.sub(r\"http\\S+|www\\S+|https\\S+\", \"\", text)  # URLs\n",
    "    text = re.sub(r\"@\\w+\", \"\", text)  # menciones\n",
    "    text = re.sub(r\"#\\w+\", \"\", text)  # hashtags\n",
    "    text = re.sub(r\"[^\\w\\s]\", \"\", text)  # puntuación\n",
    "    text = \" \".join([word for word in text.split() if word not in stop_words])  # stopwords\n",
    "    return text.strip()\n",
    "\n",
    "# 🔹 Aplicar limpieza\n",
    "df[\"clean_text\"] = df[\"text\"].astype(str).apply(clean_text)\n",
    "df[[\"text\", \"clean_text\"]].head(10)\n"
   ]
  },
  {
   "cell_type": "code",
   "execution_count": 7,
   "id": "3cb6e4c1",
   "metadata": {},
   "outputs": [
    {
     "name": "stderr",
     "output_type": "stream",
     "text": [
      "c:\\Users\\Alvar\\OneDrive\\Documentos\\SemestreX\\Natural Language Process\\spanish-twitter-sentiment-nlp\\.venv\\lib\\site-packages\\tqdm\\auto.py:21: TqdmWarning: IProgress not found. Please update jupyter and ipywidgets. See https://ipywidgets.readthedocs.io/en/stable/user_install.html\n",
      "  from .autonotebook import tqdm as notebook_tqdm\n",
      "Downloading https://raw.githubusercontent.com/stanfordnlp/stanza-resources/main/resources_1.10.0.json: 434kB [00:00, 86.4MB/s]                    \n",
      "2025-09-28 21:06:07 INFO: Downloaded file to C:\\Users\\Alvar\\stanza_resources\\resources.json\n",
      "2025-09-28 21:06:07 INFO: Downloading default packages for language: es (Spanish) ...\n",
      "Downloading https://huggingface.co/stanfordnlp/stanza-es/resolve/v1.10.0/models/default.zip: 100%|██████████| 642M/642M [01:26<00:00, 7.38MB/s] \n",
      "2025-09-28 21:07:36 INFO: Downloaded file to C:\\Users\\Alvar\\stanza_resources\\es\\default.zip\n",
      "2025-09-28 21:07:43 INFO: Finished downloading models and saved to C:\\Users\\Alvar\\stanza_resources\n",
      "2025-09-28 21:07:43 INFO: Checking for updates to resources.json in case models have been updated.  Note: this behavior can be turned off with download_method=None or download_method=DownloadMethod.REUSE_RESOURCES\n",
      "Downloading https://raw.githubusercontent.com/stanfordnlp/stanza-resources/main/resources_1.10.0.json: 434kB [00:00, 5.99MB/s]                    \n",
      "2025-09-28 21:07:44 INFO: Downloaded file to C:\\Users\\Alvar\\stanza_resources\\resources.json\n",
      "2025-09-28 21:07:44 WARNING: Language es package default expects mwt, which has been added\n",
      "2025-09-28 21:07:44 INFO: Loading these models for language: es (Spanish):\n",
      "=================================\n",
      "| Processor | Package           |\n",
      "---------------------------------\n",
      "| tokenize  | combined          |\n",
      "| mwt       | combined          |\n",
      "| lemma     | combined_nocharlm |\n",
      "=================================\n",
      "\n",
      "2025-09-28 21:07:44 INFO: Using device: cpu\n",
      "2025-09-28 21:07:44 INFO: Loading: tokenize\n",
      "2025-09-28 21:07:47 INFO: Loading: mwt\n",
      "2025-09-28 21:07:47 INFO: Loading: lemma\n",
      "2025-09-28 21:07:49 INFO: Done loading processors!\n"
     ]
    },
    {
     "data": {
      "application/vnd.microsoft.datawrangler.viewer.v0+json": {
       "columns": [
        {
         "name": "index",
         "rawType": "int64",
         "type": "integer"
        },
        {
         "name": "clean_text",
         "rawType": "object",
         "type": "string"
        },
        {
         "name": "lemmas",
         "rawType": "object",
         "type": "unknown"
        }
       ],
       "ref": "73ea5b0a-d9f2-487b-989a-d6ff323c047f",
       "rows": [
        [
         "0",
         "termine bien abrumado después hoy",
         "['terminar', 'bien', 'abrumado', 'después', 'hoy']"
        ],
        [
         "1",
         "siento abrumado",
         "['sentir', 'abrumado']"
        ],
        [
         "2",
         "siento abrumado cantidad cosas quiero dibujar ver jugar leer odio sensación xdddd",
         "['sentir', 'abrumado', 'cantidad', 'cosa', 'querer', 'dibujar', 'ver', 'jugar', 'leer', 'odio', 'sensación', 'xdddd']"
        ],
        [
         "3",
         "salvador única persona abrumado versiones",
         "['salvador', 'único', 'persona', 'abrumado', 'versión']"
        ],
        [
         "4",
         "denme helado ando full abrumado",
         "['denme', 'helado', 'ando', 'full', 'abrumado']"
        ],
        [
         "5",
         "abrumado airdrops youtube imposible gestionarlo mueve rápido determino plan quemo",
         "['abrumado', 'airdrop', 'youtube', 'imposible', 'gestionar', 'él', 'mover', 'rápido', 'determino', 'plan', 'quemo']"
        ],
        [
         "6",
         "veces motivo aparente bien razones quizás fútiles venían encima unas nostalgias inmensas dejaban paralizado abrumado heraldos negros hablaba vallejo",
         "['vez', 'motivo', 'aparente', 'bien', 'razón', 'quizás', 'fútil', 'venir', 'encima', 'uno', 'nostalgia', 'inmenso', 'dejar', 'paralizado', 'abrumado', 'heraldo', 'negro', 'hablar', 'vallejo']"
        ],
        [
         "7",
         "oh vacaciones tesoros inciertos venideros preciados cualquier trabajador abrumado sobreexplotación sueño fugaz dinero parecía importar cambio breve respiro placer diversión alivio tesoro perdido ahora convertido",
         "['oh', 'vacaciones', 'tesoro', 'incierto', 'venidero', 'preciado', 'cualquiera', 'trabajador', 'abrumado', 'sobreexplotación', 'sueño', 'fugaz', 'dinero', 'parecer', 'importar', 'cambio', 'breve', 'respiro', 'placer', 'diversión', 'alivio', 'tesoro', 'perder', 'ahora', 'convertir']"
        ],
        [
         "8",
         "siento abrumado",
         "['sentir', 'abrumado']"
        ],
        [
         "9",
         "consejo nadie pidió si día sientes abrumado triste enojado ansioso cierra ojos piérdete respiración",
         "['consejo', 'nadie', 'pedir', 'si', 'día', 'sentir', 'abrumado', 'triste', 'enojar', 'ansioso', 'cerrar', 'ojo', 'piérdete', 'respiración']"
        ]
       ],
       "shape": {
        "columns": 2,
        "rows": 10
       }
      },
      "text/html": [
       "<div>\n",
       "<style scoped>\n",
       "    .dataframe tbody tr th:only-of-type {\n",
       "        vertical-align: middle;\n",
       "    }\n",
       "\n",
       "    .dataframe tbody tr th {\n",
       "        vertical-align: top;\n",
       "    }\n",
       "\n",
       "    .dataframe thead th {\n",
       "        text-align: right;\n",
       "    }\n",
       "</style>\n",
       "<table border=\"1\" class=\"dataframe\">\n",
       "  <thead>\n",
       "    <tr style=\"text-align: right;\">\n",
       "      <th></th>\n",
       "      <th>clean_text</th>\n",
       "      <th>lemmas</th>\n",
       "    </tr>\n",
       "  </thead>\n",
       "  <tbody>\n",
       "    <tr>\n",
       "      <th>0</th>\n",
       "      <td>termine bien abrumado después hoy</td>\n",
       "      <td>[terminar, bien, abrumado, después, hoy]</td>\n",
       "    </tr>\n",
       "    <tr>\n",
       "      <th>1</th>\n",
       "      <td>siento abrumado</td>\n",
       "      <td>[sentir, abrumado]</td>\n",
       "    </tr>\n",
       "    <tr>\n",
       "      <th>2</th>\n",
       "      <td>siento abrumado cantidad cosas quiero dibujar ...</td>\n",
       "      <td>[sentir, abrumado, cantidad, cosa, querer, dib...</td>\n",
       "    </tr>\n",
       "    <tr>\n",
       "      <th>3</th>\n",
       "      <td>salvador única persona abrumado versiones</td>\n",
       "      <td>[salvador, único, persona, abrumado, versión]</td>\n",
       "    </tr>\n",
       "    <tr>\n",
       "      <th>4</th>\n",
       "      <td>denme helado ando full abrumado</td>\n",
       "      <td>[denme, helado, ando, full, abrumado]</td>\n",
       "    </tr>\n",
       "    <tr>\n",
       "      <th>5</th>\n",
       "      <td>abrumado airdrops youtube imposible gestionarl...</td>\n",
       "      <td>[abrumado, airdrop, youtube, imposible, gestio...</td>\n",
       "    </tr>\n",
       "    <tr>\n",
       "      <th>6</th>\n",
       "      <td>veces motivo aparente bien razones quizás fúti...</td>\n",
       "      <td>[vez, motivo, aparente, bien, razón, quizás, f...</td>\n",
       "    </tr>\n",
       "    <tr>\n",
       "      <th>7</th>\n",
       "      <td>oh vacaciones tesoros inciertos venideros prec...</td>\n",
       "      <td>[oh, vacaciones, tesoro, incierto, venidero, p...</td>\n",
       "    </tr>\n",
       "    <tr>\n",
       "      <th>8</th>\n",
       "      <td>siento abrumado</td>\n",
       "      <td>[sentir, abrumado]</td>\n",
       "    </tr>\n",
       "    <tr>\n",
       "      <th>9</th>\n",
       "      <td>consejo nadie pidió si día sientes abrumado tr...</td>\n",
       "      <td>[consejo, nadie, pedir, si, día, sentir, abrum...</td>\n",
       "    </tr>\n",
       "  </tbody>\n",
       "</table>\n",
       "</div>"
      ],
      "text/plain": [
       "                                          clean_text  \\\n",
       "0                  termine bien abrumado después hoy   \n",
       "1                                    siento abrumado   \n",
       "2  siento abrumado cantidad cosas quiero dibujar ...   \n",
       "3          salvador única persona abrumado versiones   \n",
       "4                    denme helado ando full abrumado   \n",
       "5  abrumado airdrops youtube imposible gestionarl...   \n",
       "6  veces motivo aparente bien razones quizás fúti...   \n",
       "7  oh vacaciones tesoros inciertos venideros prec...   \n",
       "8                                    siento abrumado   \n",
       "9  consejo nadie pidió si día sientes abrumado tr...   \n",
       "\n",
       "                                              lemmas  \n",
       "0           [terminar, bien, abrumado, después, hoy]  \n",
       "1                                 [sentir, abrumado]  \n",
       "2  [sentir, abrumado, cantidad, cosa, querer, dib...  \n",
       "3      [salvador, único, persona, abrumado, versión]  \n",
       "4              [denme, helado, ando, full, abrumado]  \n",
       "5  [abrumado, airdrop, youtube, imposible, gestio...  \n",
       "6  [vez, motivo, aparente, bien, razón, quizás, f...  \n",
       "7  [oh, vacaciones, tesoro, incierto, venidero, p...  \n",
       "8                                 [sentir, abrumado]  \n",
       "9  [consejo, nadie, pedir, si, día, sentir, abrum...  "
      ]
     },
     "execution_count": 7,
     "metadata": {},
     "output_type": "execute_result"
    }
   ],
   "source": [
    "import stanza\n",
    "\n",
    "# Descargar modelo de español (solo la primera vez)\n",
    "stanza.download(\"es\")\n",
    "\n",
    "# Crear pipeline en español\n",
    "nlp = stanza.Pipeline(\"es\", processors=\"tokenize,lemma\", use_gpu=False)\n",
    "\n",
    "# Función para tokenizar y lematizar\n",
    "def tokenize_lemmatize(text):\n",
    "    doc = nlp(text)\n",
    "    return [word.lemma for sent in doc.sentences for word in sent.words]\n",
    "\n",
    "# Aplicar al corpus\n",
    "df[\"lemmas\"] = df[\"clean_text\"].apply(tokenize_lemmatize)\n",
    "df[[\"clean_text\", \"lemmas\"]].head(10)\n"
   ]
  }
 ],
 "metadata": {
  "kernelspec": {
   "display_name": ".venv",
   "language": "python",
   "name": "python3"
  },
  "language_info": {
   "codemirror_mode": {
    "name": "ipython",
    "version": 3
   },
   "file_extension": ".py",
   "mimetype": "text/x-python",
   "name": "python",
   "nbconvert_exporter": "python",
   "pygments_lexer": "ipython3",
   "version": "3.9.2rc1"
  }
 },
 "nbformat": 4,
 "nbformat_minor": 5
}
